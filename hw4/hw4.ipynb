{
 "cells": [
  {
   "cell_type": "code",
   "execution_count": 7,
   "metadata": {},
   "outputs": [],
   "source": [
    "import multiprocessing as mp\n",
    "import random\n",
    "import time\n",
    "import argparse\n",
    "import numpy as np\n",
    "from pprint import pprint"
   ]
  },
  {
   "cell_type": "code",
   "execution_count": 2,
   "metadata": {},
   "outputs": [],
   "source": [
    "def randm(w, h):\n",
    "    return [ [random.randint(0,1) for x in range(w)] for y in range(h) ]\n",
    "\n",
    "def zerom(w, h):\n",
    "    rh = range(h)\n",
    "    rw = range(w)\n",
    "    return [ [0 for x in rw] for y in rh ]\n",
    "\n",
    "def inverse(m):\n",
    "    rh = range(len(m))\n",
    "    rw = range(len(m[0]))\n",
    "    return [ [ m[y][x] for y in rh ] for x in rw ]\n",
    "\n",
    "def mulm(m1,m2):\n",
    "    i2 = inverse(m2)\n",
    "    return [ [sum(x*y for x,y in zip(a,b)) for b in i2] for a in m1 ]\n",
    "\n",
    "def subm(m1, m2):\n",
    "    return [ [a-b for a,b in zip(r1,r2)] for r1,r2 in zip(m1,m2)]\n",
    "\n",
    "def addm(m1, m2):\n",
    "    return [ [a+b for a,b in zip(r1,r2)] for r1,r2 in zip(m1,m2)]\n",
    "\n",
    "def matchm(m1, m2):\n",
    "    rn = range(len(m1))\n",
    "    for i in rn:\n",
    "        for j in rn:\n",
    "            if m1[i][j] != m2[i][j]:\n",
    "                return False\n",
    "    return True"
   ]
  },
  {
   "cell_type": "code",
   "execution_count": 3,
   "metadata": {},
   "outputs": [],
   "source": [
    "def standard(A, B):\n",
    "    n = len(A)//2\n",
    "    \n",
    "    tmp = A[:n]\n",
    "    a = [ row[:n] for row in tmp ]\n",
    "    b = [ row[n:] for row in tmp ]\n",
    "    tmp = A[n:]\n",
    "    c = [ row[:n] for row in tmp ]\n",
    "    d = [ row[n:] for row in tmp ]\n",
    "\n",
    "    tmp = B[:n]\n",
    "    e = [ row[:n] for row in tmp ]\n",
    "    f = [ row[n:] for row in tmp ]\n",
    "    tmp = B[n:]\n",
    "    g = [ row[:n] for row in tmp ]\n",
    "    h = [ row[n:] for row in tmp ]\n",
    "    \n",
    "    if n<=MAT_MIN:\n",
    "        p0 = pool.apply_async(mulm, args=(a,e))\n",
    "        p1 = pool.apply_async(mulm, args=(b,g))\n",
    "        p2 = pool.apply_async(mulm, args=(a,f))\n",
    "        p3 = pool.apply_async(mulm, args=(b,h))\n",
    "        p4 = pool.apply_async(mulm, args=(c,e))\n",
    "        p5 = pool.apply_async(mulm, args=(d,g))\n",
    "        p6 = pool.apply_async(mulm, args=(c,f))\n",
    "        p7 = pool.apply_async(mulm, args=(d,h))\n",
    "        \n",
    "        C00 = addm(p0.get(), p1.get())\n",
    "        C01 = addm(p2.get(), p3.get())\n",
    "        C10 = addm(p4.get(), p5.get())\n",
    "        C11 = addm(p6.get(), p7.get())\n",
    "    else:        \n",
    "        C00 = addm(standard(a,e), standard(b,g))\n",
    "        C01 = addm(standard(a,f), standard(b,h))\n",
    "        C10 = addm(standard(c,e), standard(d,g))\n",
    "        C11 = addm(standard(c,f), standard(d,h))\n",
    "\n",
    "    return [r1+r2 for r1,r2 in zip(C00,C01)] + [r1+r2 for r1,r2 in zip(C10,C11)]"
   ]
  },
  {
   "cell_type": "code",
   "execution_count": 4,
   "metadata": {},
   "outputs": [],
   "source": [
    "def strassen(A, B):\n",
    "    n = len(A)//2\n",
    "    \n",
    "    tmp = A[:n]\n",
    "    a = [ row[:n] for row in tmp ]\n",
    "    b = [ row[n:] for row in tmp ]\n",
    "    tmp = A[n:]\n",
    "    c = [ row[:n] for row in tmp ]\n",
    "    d = [ row[n:] for row in tmp ]\n",
    "\n",
    "    tmp = B[:n]\n",
    "    e = [ row[:n] for row in tmp ]\n",
    "    f = [ row[n:] for row in tmp ]\n",
    "    tmp = B[n:]\n",
    "    g = [ row[:n] for row in tmp ]\n",
    "    h = [ row[n:] for row in tmp ]\n",
    "    \n",
    "    if n<=MAT_MIN:\n",
    "        p1 = pool.apply_async(mulm, args=(a,subm(f,h)))\n",
    "        p2 = pool.apply_async(mulm, args=(addm(a,b),h))\n",
    "        p3 = pool.apply_async(mulm, args=(addm(c,d),e))\n",
    "        p4 = pool.apply_async(mulm, args=(d,subm(g,e)))\n",
    "        p5 = pool.apply_async(mulm, args=(addm(a,d),addm(e,h)))\n",
    "        p6 = pool.apply_async(mulm, args=(subm(b,d),addm(g,h)))\n",
    "        p7 = pool.apply_async(mulm, args=(subm(a,c),addm(e,f)))\n",
    "        \n",
    "        p1 = p1.get()\n",
    "        p2 = p2.get()\n",
    "        C01 = addm(p1,p2)\n",
    "        p3 = p3.get()\n",
    "        p4 = p4.get()\n",
    "        C10 = addm(p3,p4)\n",
    "        p5 = p5.get()\n",
    "        p6 = p6.get()\n",
    "        C00 = addm(subm(addm(p5,p4),p2),p6)\n",
    "        p7 = p7.get()\n",
    "        C11 = subm(subm(addm(p1,p5),p3),p7)\n",
    "    else:\n",
    "        p1 = strassen(a,subm(f,h))\n",
    "        p2 = strassen(addm(a,b),h)\n",
    "        C01 = addm(p1,p2)\n",
    "        p3 = strassen(addm(c,d),e)\n",
    "        p4 = strassen(d,subm(g,e))\n",
    "        C10 = addm(p3,p4)\n",
    "        p5 = strassen(addm(a,d),addm(e,h))\n",
    "        p6 = strassen(subm(b,d),addm(g,h))\n",
    "        C00 = addm(subm(addm(p5,p4),p2),p6)\n",
    "        p7 = strassen(subm(a,c),addm(e,f))\n",
    "        C11 = subm(subm(addm(p1,p5),p3),p7)\n",
    "\n",
    "    return [r1+r2 for r1,r2 in zip(C00,C01)] + [r1+r2 for r1,r2 in zip(C10,C11)]"
   ]
  },
  {
   "cell_type": "code",
   "execution_count": 15,
   "metadata": {},
   "outputs": [],
   "source": [
    "n = 256\n",
    "m1 = randm(n,n)\n",
    "m2 = randm(n,n)\n",
    "MAT_MIN = 2**20"
   ]
  },
  {
   "cell_type": "code",
   "execution_count": 12,
   "metadata": {},
   "outputs": [
    {
     "name": "stdout",
     "output_type": "stream",
     "text": [
      "967 ms ± 6.74 ms per loop (mean ± std. dev. of 7 runs, 1 loop each)\n"
     ]
    }
   ],
   "source": [
    "%%timeit\n",
    "np.matmul(m1,m2)\n",
    ";"
   ]
  },
  {
   "cell_type": "code",
   "execution_count": 17,
   "metadata": {},
   "outputs": [
    {
     "name": "stdout",
     "output_type": "stream",
     "text": [
      "CPU times: user 46.9 ms, sys: 328 ms, total: 375 ms\n",
      "Wall time: 939 ms\n"
     ]
    }
   ],
   "source": [
    "%%time\n",
    "with mp.Pool(processes=8) as pool:\n",
    "    strassen(m1,m2)\n",
    ";"
   ]
  },
  {
   "cell_type": "code",
   "execution_count": 5,
   "metadata": {},
   "outputs": [
    {
     "name": "stdout",
     "output_type": "stream",
     "text": [
      "Elapsed time : 39.20739006996155 (sec)\n"
     ]
    }
   ],
   "source": [
    "if __name__ == '__main__':\n",
    "#     parser = argparse.ArgumentParser()\n",
    "#     parser.add_argument('-f', action='store', dest='filename', help='Designated file with matrices')\n",
    "#     args = parser.parse_args()\n",
    "\n",
    "    with open('hw4_test/test2') as f:\n",
    "        w,h = [ int(x) for x in f.readline().split(' ')[:2] ]\n",
    "        m1 = [ [int(x) for x in f.readline().split(' ')[:w]] for i in range(h)] \n",
    "        \n",
    "        w,h = [ int(x) for x in f.readline().split(' ')[:2] ]\n",
    "        m2 = [ [int(x) for x in f.readline().split(' ')[:w]] for i in range(h)] \n",
    "    \n",
    "    \n",
    "    MAT_MIN = 2**20\n",
    "    with mp.Pool(processes=7) as pool:\n",
    "        start = time.time()\n",
    "        strassen(m1,m2)\n",
    "        end = time.time()\n",
    "    \n",
    "    \n",
    "    print('Elapsed time : {} (sec)'.format(end-start))"
   ]
  }
 ],
 "metadata": {
  "kernelspec": {
   "display_name": "Python 3",
   "language": "python",
   "name": "python3"
  },
  "language_info": {
   "codemirror_mode": {
    "name": "ipython",
    "version": 3
   },
   "file_extension": ".py",
   "mimetype": "text/x-python",
   "name": "python",
   "nbconvert_exporter": "python",
   "pygments_lexer": "ipython3",
   "version": "3.6.5"
  }
 },
 "nbformat": 4,
 "nbformat_minor": 2
}
